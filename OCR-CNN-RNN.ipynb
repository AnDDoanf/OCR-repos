{
  "nbformat": 4,
  "nbformat_minor": 0,
  "metadata": {
    "colab": {
      "provenance": [],
      "gpuType": "T4",
      "mount_file_id": "1SLGwJTwlIworstm6Ym5OcCChCjuhDlrN",
      "authorship_tag": "ABX9TyMkKorZOvhCC9iTst0uDOh2",
      "include_colab_link": true
    },
    "kernelspec": {
      "name": "python3",
      "display_name": "Python 3"
    },
    "language_info": {
      "name": "python"
    },
    "accelerator": "GPU"
  },
  "cells": [
    {
      "cell_type": "markdown",
      "metadata": {
        "id": "view-in-github",
        "colab_type": "text"
      },
      "source": [
        "<a href=\"https://colab.research.google.com/github/AnDDoanf/OCR-repos/blob/master/OCR-CNN-RNN.ipynb\" target=\"_parent\"><img src=\"https://colab.research.google.com/assets/colab-badge.svg\" alt=\"Open In Colab\"/></a>"
      ]
    },
    {
      "cell_type": "code",
      "execution_count": 1,
      "metadata": {
        "colab": {
          "base_uri": "https://localhost:8080/"
        },
        "id": "THkZ_NwmyDJt",
        "outputId": "23ffa889-6a48-4282-dd7c-660b7d3fbc94"
      },
      "outputs": [
        {
          "output_type": "stream",
          "name": "stdout",
          "text": [
            "/content/drive/MyDrive/Kaggle\n"
          ]
        }
      ],
      "source": [
        "import os\n",
        "os.environ[\"KAGGLE_CONFIG_DIR\"] = \"/content/drive/MyDrive/Kaggle\"\n",
        "%cd /content/drive/MyDrive/Kaggle"
      ]
    },
    {
      "cell_type": "code",
      "source": [
        "# !kaggle datasets download -d ssarkar445/handwriting-recognitionocr\n",
        "# !unzip *.zip -d handwritten-dataset\n",
        "# !rm *.zip"
      ],
      "metadata": {
        "id": "MgwoU6zuyiXr"
      },
      "execution_count": 2,
      "outputs": []
    },
    {
      "cell_type": "code",
      "source": [
        "import numpy as np\n",
        "import pandas as pd\n",
        "import tensorflow as tf\n",
        "from IPython.display import clear_output as cls\n",
        "from glob import glob\n",
        "from tqdm import tqdm\n",
        "import tensorflow.data as tfd\n",
        "import matplotlib.pyplot as plt\n",
        "from tensorflow import keras\n",
        "from tensorflow.keras import callbacks\n",
        "from tensorflow.keras import layers"
      ],
      "metadata": {
        "id": "x8HbV3Rx5Fn9"
      },
      "execution_count": 3,
      "outputs": []
    },
    {
      "cell_type": "code",
      "source": [
        "# Image Size\n",
        "IMG_WIDTH = 200\n",
        "IMG_HEIGHT = 50\n",
        "IMAGE_SIZE = (IMG_WIDTH, IMG_HEIGHT)\n",
        "\n",
        "# Batch Size and Epoch (set higher for more accuracy)\n",
        "BATCH_SIZE = 2\n",
        "EPOCHS = 20\n",
        "\n",
        "# Model Name\n",
        "MODEL_NAME = 'Handwritten-OCR'\n",
        "\n",
        "# Callbacks\n",
        "CALLBACKS = [\n",
        "    callbacks.EarlyStopping(patience=10, restore_best_weights=True),\n",
        "    callbacks.ModelCheckpoint(filepath=MODEL_NAME + \".h5\", save_best_only=True)\n",
        "]\n",
        "\n",
        "# Learning Rate\n",
        "LEARNING_RATE = 1e-3\n",
        "\n",
        "# Random Seed\n",
        "np.random.seed(42)\n",
        "tf.random.set_seed(42)\n",
        "\n",
        "# File Paths\n",
        "train_csv_path = '/content/drive/MyDrive/Kaggle/handwritten-dataset/CSV/written_name_train.csv'\n",
        "valid_csv_path = '/content/drive/MyDrive/Kaggle/handwritten-dataset/CSV/written_name_validation.csv'\n",
        "test_csv_path = '/content/drive/MyDrive/Kaggle/handwritten-dataset/CSV/written_name_test.csv'\n",
        "\n",
        "train_image_dir = '/content/drive/MyDrive/Kaggle/handwritten-dataset/train_v2/train'\n",
        "valid_image_dir = '/content/drive/MyDrive/Kaggle/handwritten-dataset/validation_v2/validation'\n",
        "test_image_dir = '/content/drive/MyDrive/Kaggle/handwritten-dataset/test_v2/test'\n",
        "\n",
        "# Data Size\n",
        "TRAIN_SIZE = BATCH_SIZE * 1000\n",
        "VALID_SIZE = BATCH_SIZE * 500\n",
        "TEST_SIZE  = BATCH_SIZE * 100\n",
        "\n",
        "# AUTOTUNE\n",
        "AUTOTUNE = tfd.AUTOTUNE"
      ],
      "metadata": {
        "id": "FZ852Gkm5e4Q"
      },
      "execution_count": 4,
      "outputs": []
    },
    {
      "cell_type": "code",
      "source": [
        "train_csv = pd.read_csv(train_csv_path)[:TRAIN_SIZE]\n",
        "valid_csv = pd.read_csv(valid_csv_path)[:VALID_SIZE]\n",
        "test_csv = pd.read_csv(test_csv_path)[:TEST_SIZE]\n",
        "\n",
        "train_csv.head()"
      ],
      "metadata": {
        "colab": {
          "base_uri": "https://localhost:8080/",
          "height": 206
        },
        "id": "PNnYBQEO61HM",
        "outputId": "1319dbef-3b62-4cd5-9d4d-dff8df1ba579"
      },
      "execution_count": 5,
      "outputs": [
        {
          "output_type": "execute_result",
          "data": {
            "text/plain": [
              "          FILENAME   IDENTITY\n",
              "0  TRAIN_00001.jpg  BALTHAZAR\n",
              "1  TRAIN_00002.jpg      SIMON\n",
              "2  TRAIN_00003.jpg      BENES\n",
              "3  TRAIN_00004.jpg    LA LOVE\n",
              "4  TRAIN_00005.jpg     DAPHNE"
            ],
            "text/html": [
              "\n",
              "  <div id=\"df-b1eb671c-92a9-40d3-8137-dc6262483966\" class=\"colab-df-container\">\n",
              "    <div>\n",
              "<style scoped>\n",
              "    .dataframe tbody tr th:only-of-type {\n",
              "        vertical-align: middle;\n",
              "    }\n",
              "\n",
              "    .dataframe tbody tr th {\n",
              "        vertical-align: top;\n",
              "    }\n",
              "\n",
              "    .dataframe thead th {\n",
              "        text-align: right;\n",
              "    }\n",
              "</style>\n",
              "<table border=\"1\" class=\"dataframe\">\n",
              "  <thead>\n",
              "    <tr style=\"text-align: right;\">\n",
              "      <th></th>\n",
              "      <th>FILENAME</th>\n",
              "      <th>IDENTITY</th>\n",
              "    </tr>\n",
              "  </thead>\n",
              "  <tbody>\n",
              "    <tr>\n",
              "      <th>0</th>\n",
              "      <td>TRAIN_00001.jpg</td>\n",
              "      <td>BALTHAZAR</td>\n",
              "    </tr>\n",
              "    <tr>\n",
              "      <th>1</th>\n",
              "      <td>TRAIN_00002.jpg</td>\n",
              "      <td>SIMON</td>\n",
              "    </tr>\n",
              "    <tr>\n",
              "      <th>2</th>\n",
              "      <td>TRAIN_00003.jpg</td>\n",
              "      <td>BENES</td>\n",
              "    </tr>\n",
              "    <tr>\n",
              "      <th>3</th>\n",
              "      <td>TRAIN_00004.jpg</td>\n",
              "      <td>LA LOVE</td>\n",
              "    </tr>\n",
              "    <tr>\n",
              "      <th>4</th>\n",
              "      <td>TRAIN_00005.jpg</td>\n",
              "      <td>DAPHNE</td>\n",
              "    </tr>\n",
              "  </tbody>\n",
              "</table>\n",
              "</div>\n",
              "    <div class=\"colab-df-buttons\">\n",
              "\n",
              "  <div class=\"colab-df-container\">\n",
              "    <button class=\"colab-df-convert\" onclick=\"convertToInteractive('df-b1eb671c-92a9-40d3-8137-dc6262483966')\"\n",
              "            title=\"Convert this dataframe to an interactive table.\"\n",
              "            style=\"display:none;\">\n",
              "\n",
              "  <svg xmlns=\"http://www.w3.org/2000/svg\" height=\"24px\" viewBox=\"0 -960 960 960\">\n",
              "    <path d=\"M120-120v-720h720v720H120Zm60-500h600v-160H180v160Zm220 220h160v-160H400v160Zm0 220h160v-160H400v160ZM180-400h160v-160H180v160Zm440 0h160v-160H620v160ZM180-180h160v-160H180v160Zm440 0h160v-160H620v160Z\"/>\n",
              "  </svg>\n",
              "    </button>\n",
              "\n",
              "  <style>\n",
              "    .colab-df-container {\n",
              "      display:flex;\n",
              "      gap: 12px;\n",
              "    }\n",
              "\n",
              "    .colab-df-convert {\n",
              "      background-color: #E8F0FE;\n",
              "      border: none;\n",
              "      border-radius: 50%;\n",
              "      cursor: pointer;\n",
              "      display: none;\n",
              "      fill: #1967D2;\n",
              "      height: 32px;\n",
              "      padding: 0 0 0 0;\n",
              "      width: 32px;\n",
              "    }\n",
              "\n",
              "    .colab-df-convert:hover {\n",
              "      background-color: #E2EBFA;\n",
              "      box-shadow: 0px 1px 2px rgba(60, 64, 67, 0.3), 0px 1px 3px 1px rgba(60, 64, 67, 0.15);\n",
              "      fill: #174EA6;\n",
              "    }\n",
              "\n",
              "    .colab-df-buttons div {\n",
              "      margin-bottom: 4px;\n",
              "    }\n",
              "\n",
              "    [theme=dark] .colab-df-convert {\n",
              "      background-color: #3B4455;\n",
              "      fill: #D2E3FC;\n",
              "    }\n",
              "\n",
              "    [theme=dark] .colab-df-convert:hover {\n",
              "      background-color: #434B5C;\n",
              "      box-shadow: 0px 1px 3px 1px rgba(0, 0, 0, 0.15);\n",
              "      filter: drop-shadow(0px 1px 2px rgba(0, 0, 0, 0.3));\n",
              "      fill: #FFFFFF;\n",
              "    }\n",
              "  </style>\n",
              "\n",
              "    <script>\n",
              "      const buttonEl =\n",
              "        document.querySelector('#df-b1eb671c-92a9-40d3-8137-dc6262483966 button.colab-df-convert');\n",
              "      buttonEl.style.display =\n",
              "        google.colab.kernel.accessAllowed ? 'block' : 'none';\n",
              "\n",
              "      async function convertToInteractive(key) {\n",
              "        const element = document.querySelector('#df-b1eb671c-92a9-40d3-8137-dc6262483966');\n",
              "        const dataTable =\n",
              "          await google.colab.kernel.invokeFunction('convertToInteractive',\n",
              "                                                    [key], {});\n",
              "        if (!dataTable) return;\n",
              "\n",
              "        const docLinkHtml = 'Like what you see? Visit the ' +\n",
              "          '<a target=\"_blank\" href=https://colab.research.google.com/notebooks/data_table.ipynb>data table notebook</a>'\n",
              "          + ' to learn more about interactive tables.';\n",
              "        element.innerHTML = '';\n",
              "        dataTable['output_type'] = 'display_data';\n",
              "        await google.colab.output.renderOutput(dataTable, element);\n",
              "        const docLink = document.createElement('div');\n",
              "        docLink.innerHTML = docLinkHtml;\n",
              "        element.appendChild(docLink);\n",
              "      }\n",
              "    </script>\n",
              "  </div>\n",
              "\n",
              "\n",
              "<div id=\"df-f66755ae-f5fc-496f-aac8-1c424a932da5\">\n",
              "  <button class=\"colab-df-quickchart\" onclick=\"quickchart('df-f66755ae-f5fc-496f-aac8-1c424a932da5')\"\n",
              "            title=\"Suggest charts\"\n",
              "            style=\"display:none;\">\n",
              "\n",
              "<svg xmlns=\"http://www.w3.org/2000/svg\" height=\"24px\"viewBox=\"0 0 24 24\"\n",
              "     width=\"24px\">\n",
              "    <g>\n",
              "        <path d=\"M19 3H5c-1.1 0-2 .9-2 2v14c0 1.1.9 2 2 2h14c1.1 0 2-.9 2-2V5c0-1.1-.9-2-2-2zM9 17H7v-7h2v7zm4 0h-2V7h2v10zm4 0h-2v-4h2v4z\"/>\n",
              "    </g>\n",
              "</svg>\n",
              "  </button>\n",
              "\n",
              "<style>\n",
              "  .colab-df-quickchart {\n",
              "      --bg-color: #E8F0FE;\n",
              "      --fill-color: #1967D2;\n",
              "      --hover-bg-color: #E2EBFA;\n",
              "      --hover-fill-color: #174EA6;\n",
              "      --disabled-fill-color: #AAA;\n",
              "      --disabled-bg-color: #DDD;\n",
              "  }\n",
              "\n",
              "  [theme=dark] .colab-df-quickchart {\n",
              "      --bg-color: #3B4455;\n",
              "      --fill-color: #D2E3FC;\n",
              "      --hover-bg-color: #434B5C;\n",
              "      --hover-fill-color: #FFFFFF;\n",
              "      --disabled-bg-color: #3B4455;\n",
              "      --disabled-fill-color: #666;\n",
              "  }\n",
              "\n",
              "  .colab-df-quickchart {\n",
              "    background-color: var(--bg-color);\n",
              "    border: none;\n",
              "    border-radius: 50%;\n",
              "    cursor: pointer;\n",
              "    display: none;\n",
              "    fill: var(--fill-color);\n",
              "    height: 32px;\n",
              "    padding: 0;\n",
              "    width: 32px;\n",
              "  }\n",
              "\n",
              "  .colab-df-quickchart:hover {\n",
              "    background-color: var(--hover-bg-color);\n",
              "    box-shadow: 0 1px 2px rgba(60, 64, 67, 0.3), 0 1px 3px 1px rgba(60, 64, 67, 0.15);\n",
              "    fill: var(--button-hover-fill-color);\n",
              "  }\n",
              "\n",
              "  .colab-df-quickchart-complete:disabled,\n",
              "  .colab-df-quickchart-complete:disabled:hover {\n",
              "    background-color: var(--disabled-bg-color);\n",
              "    fill: var(--disabled-fill-color);\n",
              "    box-shadow: none;\n",
              "  }\n",
              "\n",
              "  .colab-df-spinner {\n",
              "    border: 2px solid var(--fill-color);\n",
              "    border-color: transparent;\n",
              "    border-bottom-color: var(--fill-color);\n",
              "    animation:\n",
              "      spin 1s steps(1) infinite;\n",
              "  }\n",
              "\n",
              "  @keyframes spin {\n",
              "    0% {\n",
              "      border-color: transparent;\n",
              "      border-bottom-color: var(--fill-color);\n",
              "      border-left-color: var(--fill-color);\n",
              "    }\n",
              "    20% {\n",
              "      border-color: transparent;\n",
              "      border-left-color: var(--fill-color);\n",
              "      border-top-color: var(--fill-color);\n",
              "    }\n",
              "    30% {\n",
              "      border-color: transparent;\n",
              "      border-left-color: var(--fill-color);\n",
              "      border-top-color: var(--fill-color);\n",
              "      border-right-color: var(--fill-color);\n",
              "    }\n",
              "    40% {\n",
              "      border-color: transparent;\n",
              "      border-right-color: var(--fill-color);\n",
              "      border-top-color: var(--fill-color);\n",
              "    }\n",
              "    60% {\n",
              "      border-color: transparent;\n",
              "      border-right-color: var(--fill-color);\n",
              "    }\n",
              "    80% {\n",
              "      border-color: transparent;\n",
              "      border-right-color: var(--fill-color);\n",
              "      border-bottom-color: var(--fill-color);\n",
              "    }\n",
              "    90% {\n",
              "      border-color: transparent;\n",
              "      border-bottom-color: var(--fill-color);\n",
              "    }\n",
              "  }\n",
              "</style>\n",
              "\n",
              "  <script>\n",
              "    async function quickchart(key) {\n",
              "      const quickchartButtonEl =\n",
              "        document.querySelector('#' + key + ' button');\n",
              "      quickchartButtonEl.disabled = true;  // To prevent multiple clicks.\n",
              "      quickchartButtonEl.classList.add('colab-df-spinner');\n",
              "      try {\n",
              "        const charts = await google.colab.kernel.invokeFunction(\n",
              "            'suggestCharts', [key], {});\n",
              "      } catch (error) {\n",
              "        console.error('Error during call to suggestCharts:', error);\n",
              "      }\n",
              "      quickchartButtonEl.classList.remove('colab-df-spinner');\n",
              "      quickchartButtonEl.classList.add('colab-df-quickchart-complete');\n",
              "    }\n",
              "    (() => {\n",
              "      let quickchartButtonEl =\n",
              "        document.querySelector('#df-f66755ae-f5fc-496f-aac8-1c424a932da5 button');\n",
              "      quickchartButtonEl.style.display =\n",
              "        google.colab.kernel.accessAllowed ? 'block' : 'none';\n",
              "    })();\n",
              "  </script>\n",
              "</div>\n",
              "\n",
              "    </div>\n",
              "  </div>\n"
            ]
          },
          "metadata": {},
          "execution_count": 5
        }
      ]
    },
    {
      "cell_type": "code",
      "source": [
        "train_labels = [str(word) for word in train_csv['IDENTITY'].to_numpy()]\n",
        "train_labels[:5]"
      ],
      "metadata": {
        "id": "00xRkxO86-n7",
        "colab": {
          "base_uri": "https://localhost:8080/"
        },
        "outputId": "64492809-bef6-4a51-fcd1-229531378310"
      },
      "execution_count": 6,
      "outputs": [
        {
          "output_type": "execute_result",
          "data": {
            "text/plain": [
              "['BALTHAZAR', 'SIMON', 'BENES', 'LA LOVE', 'DAPHNE']"
            ]
          },
          "metadata": {},
          "execution_count": 6
        }
      ]
    },
    {
      "cell_type": "code",
      "source": [
        "unique_chars = set(char for word in train_labels for char in word)\n",
        "n_classes = len(unique_chars)\n",
        "\n",
        "print(f\"Total number of unique characters : {n_classes}\")\n",
        "print(f\"Unique Characters : \\n{unique_chars}\")"
      ],
      "metadata": {
        "id": "T0byTe8v7C2l",
        "colab": {
          "base_uri": "https://localhost:8080/"
        },
        "outputId": "abfb87d9-9147-4a71-b772-fb570299af7e"
      },
      "execution_count": 7,
      "outputs": [
        {
          "output_type": "stream",
          "name": "stdout",
          "text": [
            "Total number of unique characters : 31\n",
            "Unique Characters : \n",
            "{'S', 'J', 'O', 'I', 'V', 'D', 'T', 'K', 'C', 'n', 'Z', \"'\", 'R', 'B', 'a', 'X', 'H', 'Q', 'U', 'G', 'M', 'N', 'F', 'A', 'P', 'E', '-', 'W', ' ', 'L', 'Y'}\n"
          ]
        }
      ]
    },
    {
      "cell_type": "code",
      "source": [
        "MAX_LABEL_LENGTH = max(map(len, train_labels))\n",
        "print(f\"Maximum length of a label : {MAX_LABEL_LENGTH}\")"
      ],
      "metadata": {
        "id": "52PE2ksZ7HCZ",
        "colab": {
          "base_uri": "https://localhost:8080/"
        },
        "outputId": "51f85dc0-bd26-450b-97a1-43252c28727c"
      },
      "execution_count": 8,
      "outputs": [
        {
          "output_type": "stream",
          "name": "stdout",
          "text": [
            "Maximum length of a label : 19\n"
          ]
        }
      ]
    },
    {
      "cell_type": "code",
      "source": [
        "train_csv['FILENAME'] = [train_image_dir + f\"/{filename}\" for filename in train_csv['FILENAME']]\n",
        "valid_csv['FILENAME'] = [valid_image_dir + f\"/{filename}\" for filename in valid_csv['FILENAME']]\n",
        "test_csv['FILENAME']  = [test_image_dir + f\"/{filename}\" for filename in test_csv['FILENAME']]"
      ],
      "metadata": {
        "id": "8wdaex_-7L8m"
      },
      "execution_count": 9,
      "outputs": []
    },
    {
      "cell_type": "code",
      "source": [
        "# Character to numeric value dictionary\n",
        "char_to_num = layers.StringLookup(\n",
        "    vocabulary = list(unique_chars),\n",
        "    mask_token = None\n",
        ")\n",
        "\n",
        "# Reverse dictionary\n",
        "num_to_char = layers.StringLookup(\n",
        "    vocabulary = char_to_num.get_vocabulary(),\n",
        "    mask_token = None,\n",
        "    invert = True\n",
        ")"
      ],
      "metadata": {
        "id": "Pahwbdoy7VIC"
      },
      "execution_count": 10,
      "outputs": []
    },
    {
      "cell_type": "code",
      "source": [
        "def load_image(image_path : str):\n",
        "    image = tf.io.read_file(image_path)\n",
        "    decoded_image = tf.image.decode_jpeg(contents = image, channels = 1)\n",
        "    cnvt_image = tf.image.convert_image_dtype(image = decoded_image, dtype = tf.float32)\n",
        "    resized_image = tf.image.resize(images = cnvt_image, size = (IMG_HEIGHT, IMG_WIDTH))\n",
        "    image = tf.transpose(resized_image, perm = [1, 0, 2])\n",
        "    image = tf.cast(image, dtype = tf.float32)\n",
        "    return image"
      ],
      "metadata": {
        "id": "Gc0IqP9W7ZKF"
      },
      "execution_count": 11,
      "outputs": []
    },
    {
      "cell_type": "code",
      "source": [
        "def encode_single_sample(image_path : str, label : str):\n",
        "    image = load_image(image_path)\n",
        "    chars = tf.strings.unicode_split(label, input_encoding='UTF-8')\n",
        "    vecs = char_to_num(chars)\n",
        "    pad_size = MAX_LABEL_LENGTH - tf.shape(vecs)[0]\n",
        "    vecs = tf.pad(vecs, paddings = [[0, pad_size]], constant_values=n_classes+1)\n",
        "    return {'image':image, 'label':vecs}"
      ],
      "metadata": {
        "id": "M6hrx95k7hzX"
      },
      "execution_count": 12,
      "outputs": []
    },
    {
      "cell_type": "code",
      "source": [
        "train_ds = tf.data.Dataset.from_tensor_slices(\n",
        "    (np.array(train_csv['FILENAME'].to_list()), np.array(train_csv['IDENTITY'].to_list()))\n",
        ").shuffle(1000).map(encode_single_sample, num_parallel_calls=AUTOTUNE).batch(BATCH_SIZE).prefetch(AUTOTUNE)\n",
        "\n",
        "valid_ds = tf.data.Dataset.from_tensor_slices(\n",
        "    (np.array(valid_csv['FILENAME'].to_list()), np.array(valid_csv['IDENTITY'].to_list()))\n",
        ").map(encode_single_sample, num_parallel_calls=AUTOTUNE).batch(BATCH_SIZE).prefetch(AUTOTUNE)\n",
        "\n",
        "test_ds = tf.data.Dataset.from_tensor_slices(\n",
        "    (np.array(test_csv['FILENAME'].to_list()), np.array(test_csv['IDENTITY'].to_list()))\n",
        ").map(encode_single_sample, num_parallel_calls=AUTOTUNE).batch(BATCH_SIZE).prefetch(AUTOTUNE)"
      ],
      "metadata": {
        "id": "0gn7INIG7nsS"
      },
      "execution_count": 13,
      "outputs": []
    },
    {
      "cell_type": "code",
      "source": [
        "print(f\"Training Data Size   : {tf.data.Dataset.cardinality(train_ds).numpy() * BATCH_SIZE}\")\n",
        "print(f\"Validation Data Size : {tf.data.Dataset.cardinality(valid_ds).numpy() * BATCH_SIZE}\")\n",
        "print(f\"Testing Data Size    : {tf.data.Dataset.cardinality(test_ds).numpy() * BATCH_SIZE}\")"
      ],
      "metadata": {
        "id": "oR74Bs0T7uq8",
        "colab": {
          "base_uri": "https://localhost:8080/"
        },
        "outputId": "db30d485-e35d-4886-dc27-af16b274739e"
      },
      "execution_count": 14,
      "outputs": [
        {
          "output_type": "stream",
          "name": "stdout",
          "text": [
            "Training Data Size   : 2000\n",
            "Validation Data Size : 1000\n",
            "Testing Data Size    : 200\n"
          ]
        }
      ]
    },
    {
      "cell_type": "code",
      "source": [
        "def show_images(data, GRID=[4,4], FIGSIZE=(25, 8), cmap='binary_r', model=None, decode_pred=None):\n",
        "    plt.figure(figsize=FIGSIZE)\n",
        "    n_rows, n_cols = GRID\n",
        "    data = next(iter(data))\n",
        "    images, labels = data['image'], data['label']\n",
        "    for index, (image, label) in enumerate(zip(images, labels)):\n",
        "        text_label = num_to_char(label)\n",
        "        text_label = tf.strings.reduce_join(text_label).numpy().decode('UTF-8')\n",
        "        text_label = text_label.replace(\"[UNK]\", \" \").strip()\n",
        "        plt.subplot(n_rows, n_cols, index+1)\n",
        "        plt.imshow(tf.transpose(image, perm=[1,0,2]), cmap=cmap)\n",
        "        plt.axis('off')\n",
        "\n",
        "        if model is not None and decode_pred is not None:\n",
        "            pred = model.predict(tf.expand_dims(image, axis=0))\n",
        "            pred = decode_pred(pred)[0]\n",
        "            title = f\"True : {text_label}\\nPred : {pred}\"\n",
        "            plt.title(title)\n",
        "        else:\n",
        "            plt.title(text_label)\n",
        "    cls()\n",
        "    plt.show()\n",
        "\n",
        "show_images(data=train_ds, cmap='gray')"
      ],
      "metadata": {
        "id": "jGGG14LD7y70",
        "colab": {
          "base_uri": "https://localhost:8080/",
          "height": 164
        },
        "outputId": "b4efb5ad-2753-4bb7-c3da-b6469d272183"
      },
      "execution_count": 16,
      "outputs": [
        {
          "output_type": "display_data",
          "data": {
            "text/plain": [
              "<Figure size 2500x800 with 2 Axes>"
            ],
            "image/png": "[encoded data removed]"
          },
          "metadata": {}
        }
      ]
    },
    {
      "cell_type": "code",
      "source": [
        "class CTCLayer(layers.Layer):\n",
        "    def __init__(self, **kwargs) -> None:\n",
        "        super().__init__(**kwargs)\n",
        "        self.loss_fn = keras.backend.ctc_batch_cost\n",
        "\n",
        "    def call(self, y_true, y_pred):\n",
        "        batch_len = tf.cast(tf.shape(y_true)[0], dtype='int64')\n",
        "        input_len = tf.cast(tf.shape(y_pred)[1], dtype='int64') * tf.ones(shape=(batch_len, 1), dtype='int64')\n",
        "        label_len = tf.cast(tf.shape(y_true)[1], dtype='int64') * tf.ones(shape=(batch_len, 1), dtype='int64')\n",
        "        loss = self.loss_fn(y_true, y_pred, input_len, label_len)\n",
        "        self.add_loss(loss)\n",
        "        return y_pred"
      ],
      "metadata": {
        "id": "g8uK22aK7-jR"
      },
      "execution_count": 17,
      "outputs": []
    },
    {
      "cell_type": "code",
      "source": [
        "input_images = layers.Input(shape=(IMG_WIDTH, IMG_HEIGHT, 1), name=\"image\")\n",
        "target_labels = layers.Input(shape=(None, ), name=\"label\")\n",
        "\n",
        "x = layers.Conv2D(\n",
        "    filters=32,\n",
        "    kernel_size=3,\n",
        "    strides=1,\n",
        "    padding='same',\n",
        "    activation='relu',\n",
        "    kernel_initializer='he_normal'\n",
        ")(input_images)\n",
        "\n",
        "x = layers.MaxPool2D(pool_size=(2,2), strides=(2,2))(x)\n",
        "x = layers.Conv2D(\n",
        "    filters=64,\n",
        "    kernel_size=3,\n",
        "    strides=1,\n",
        "    padding='same',\n",
        "    activation='relu',\n",
        "    kernel_initializer='he_normal'\n",
        ")(x)\n",
        "\n",
        "x = layers.MaxPool2D(pool_size=(2,2), strides=(2,2))(x)\n",
        "\n",
        "encoding = layers.Reshape(target_shape=((IMG_WIDTH//4), (IMG_HEIGHT//4)*64))(x)\n",
        "encoding = layers.Dense(64, activation='relu', kernel_initializer='he_normal')(encoding)\n",
        "encoding = layers.Dropout(0.2)(encoding)\n",
        "\n",
        "x = layers.Bidirectional(layers.LSTM(128, return_sequences=True, dropout=0.25))(encoding)\n",
        "x = layers.Bidirectional(layers.LSTM(64, return_sequences=True, dropout=0.25))(x)\n",
        "\n",
        "output = layers.Dense(len(char_to_num.get_vocabulary())+1, activation='softmax')(x)\n",
        "\n",
        "ctc_layer = CTCLayer()(target_labels, output)\n",
        "\n",
        "ocr_model = keras.Model(\n",
        "    inputs=[input_images, target_labels],\n",
        "    outputs=[ctc_layer]\n",
        ")\n",
        "\n",
        "ocr_model.summary()"
      ],
      "metadata": {
        "id": "5NREbZZf8E3m",
        "colab": {
          "base_uri": "https://localhost:8080/"
        },
        "outputId": "3ca446bf-5d70-4a9c-c150-1f367a86015e"
      },
      "execution_count": 18,
      "outputs": [
        {
          "output_type": "stream",
          "name": "stdout",
          "text": [
            "Model: \"model\"\n",
            "__________________________________________________________________________________________________\n",
            " Layer (type)                Output Shape                 Param #   Connected to                  \n",
            "==================================================================================================\n",
            " image (InputLayer)          [(None, 200, 50, 1)]         0         []                            \n",
            "                                                                                                  \n",
            " conv2d (Conv2D)             (None, 200, 50, 32)          320       ['image[0][0]']               \n",
            "                                                                                                  \n",
            " max_pooling2d (MaxPooling2  (None, 100, 25, 32)          0         ['conv2d[0][0]']              \n",
            " D)                                                                                               \n",
            "                                                                                                  \n",
            " conv2d_1 (Conv2D)           (None, 100, 25, 64)          18496     ['max_pooling2d[0][0]']       \n",
            "                                                                                                  \n",
            " max_pooling2d_1 (MaxPoolin  (None, 50, 12, 64)           0         ['conv2d_1[0][0]']            \n",
            " g2D)                                                                                             \n",
            "                                                                                                  \n",
            " reshape (Reshape)           (None, 50, 768)              0         ['max_pooling2d_1[0][0]']     \n",
            "                                                                                                  \n",
            " dense (Dense)               (None, 50, 64)               49216     ['reshape[0][0]']             \n",
            "                                                                                                  \n",
            " dropout (Dropout)           (None, 50, 64)               0         ['dense[0][0]']               \n",
            "                                                                                                  \n",
            " bidirectional (Bidirection  (None, 50, 256)              197632    ['dropout[0][0]']             \n",
            " al)                                                                                              \n",
            "                                                                                                  \n",
            " bidirectional_1 (Bidirecti  (None, 50, 128)              164352    ['bidirectional[0][0]']       \n",
            " onal)                                                                                            \n",
            "                                                                                                  \n",
            " label (InputLayer)          [(None, None)]               0         []                            \n",
            "                                                                                                  \n",
            " dense_1 (Dense)             (None, 50, 33)               4257      ['bidirectional_1[0][0]']     \n",
            "                                                                                                  \n",
            " ctc_layer (CTCLayer)        (None, 50, 33)               0         ['label[0][0]',               \n",
            "                                                                     'dense_1[0][0]']             \n",
            "                                                                                                  \n",
            "==================================================================================================\n",
            "Total params: 434273 (1.66 MB)\n",
            "Trainable params: 434273 (1.66 MB)\n",
            "Non-trainable params: 0 (0.00 Byte)\n",
            "__________________________________________________________________________________________________\n"
          ]
        }
      ]
    },
    {
      "cell_type": "code",
      "source": [
        "# tf.keras.utils.plot_model(ocr_model)"
      ],
      "metadata": {
        "id": "Huy5EuPq8POR"
      },
      "execution_count": null,
      "outputs": []
    },
    {
      "cell_type": "code",
      "source": [
        "ocr_model.compile(optimizer='adam')\n",
        "\n",
        "history = ocr_model.fit(\n",
        "    train_ds,\n",
        "    validation_data=valid_ds,\n",
        "    epochs=EPOCHS,\n",
        "    callbacks=CALLBACKS\n",
        ")"
      ],
      "metadata": {
        "id": "VebrD8tO8Ru0",
        "colab": {
          "base_uri": "https://localhost:8080/"
        },
        "outputId": "d3d20fc8-da6a-4010-b695-8927bf403ae6"
      },
      "execution_count": 19,
      "outputs": [
        {
          "output_type": "stream",
          "name": "stdout",
          "text": [
            "Epoch 1/20\n",
            "1000/1000 [==============================] - 428s 401ms/step - loss: 21.3442 - val_loss: 20.6897\n",
            "Epoch 2/20\n",
            "   1/1000 [..............................] - ETA: 33s - loss: 16.3483"
          ]
        },
        {
          "output_type": "stream",
          "name": "stderr",
          "text": [
            "/usr/local/lib/python3.10/dist-packages/keras/src/engine/training.py:3079: UserWarning: You are saving your model as an HDF5 file via `model.save()`. This file format is considered legacy. We recommend using instead the native Keras format, e.g. `model.save('my_model.keras')`.\n",
            "  saving_api.save_model(\n"
          ]
        },
        {
          "output_type": "stream",
          "name": "stdout",
          "text": [
            "1000/1000 [==============================] - 31s 31ms/step - loss: 20.1980 - val_loss: 20.4063\n",
            "Epoch 3/20\n",
            "1000/1000 [==============================] - 28s 28ms/step - loss: 19.9314 - val_loss: 20.1934\n",
            "Epoch 4/20\n",
            "1000/1000 [==============================] - 28s 28ms/step - loss: 19.7846 - val_loss: 19.8021\n",
            "Epoch 5/20\n",
            "1000/1000 [==============================] - 27s 27ms/step - loss: 19.2766 - val_loss: 19.4153\n",
            "Epoch 6/20\n",
            "1000/1000 [==============================] - 26s 26ms/step - loss: 19.0305 - val_loss: 19.3636\n",
            "Epoch 7/20\n",
            "1000/1000 [==============================] - 28s 28ms/step - loss: 18.8885 - val_loss: 19.1982\n",
            "Epoch 8/20\n",
            "1000/1000 [==============================] - 27s 27ms/step - loss: 18.7732 - val_loss: 19.1872\n",
            "Epoch 9/20\n",
            "1000/1000 [==============================] - 25s 25ms/step - loss: 18.7176 - val_loss: 19.1178\n",
            "Epoch 10/20\n",
            "1000/1000 [==============================] - 26s 26ms/step - loss: 18.6442 - val_loss: 19.0820\n",
            "Epoch 11/20\n",
            "1000/1000 [==============================] - 27s 27ms/step - loss: 18.4763 - val_loss: 19.0180\n",
            "Epoch 12/20\n",
            "1000/1000 [==============================] - 26s 26ms/step - loss: 18.4006 - val_loss: 19.0334\n",
            "Epoch 13/20\n",
            "1000/1000 [==============================] - 25s 25ms/step - loss: 18.2377 - val_loss: 18.9012\n",
            "Epoch 14/20\n",
            "1000/1000 [==============================] - 27s 27ms/step - loss: 17.9776 - val_loss: 18.4232\n",
            "Epoch 15/20\n",
            "1000/1000 [==============================] - 27s 27ms/step - loss: 17.7047 - val_loss: 18.1602\n",
            "Epoch 16/20\n",
            "1000/1000 [==============================] - 25s 25ms/step - loss: 17.3356 - val_loss: 17.8290\n",
            "Epoch 17/20\n",
            "1000/1000 [==============================] - 26s 26ms/step - loss: 16.7327 - val_loss: 17.1771\n",
            "Epoch 18/20\n",
            "1000/1000 [==============================] - 28s 28ms/step - loss: 16.1968 - val_loss: 16.7592\n",
            "Epoch 19/20\n",
            "1000/1000 [==============================] - 27s 27ms/step - loss: 15.6632 - val_loss: 16.5594\n",
            "Epoch 20/20\n",
            "1000/1000 [==============================] - 26s 26ms/step - loss: 15.1476 - val_loss: 15.8180\n"
          ]
        }
      ]
    },
    {
      "cell_type": "code",
      "source": [
        "pd.DataFrame(history.history).plot(figsize=(8,5))\n",
        "plt.legend(fontsize=15)\n",
        "plt.xlabel(\"Epochs\")\n",
        "plt.ylabel(\"CTC Loss Score\")\n",
        "plt.title(\"Learning Curve\", fontsize=15)\n",
        "plt.grid()\n",
        "plt.savefig(\"OCRModel-LearningCurve.png\")\n",
        "plt.show()"
      ],
      "metadata": {
        "id": "7E9J4LrT8WD1",
        "colab": {
          "base_uri": "https://localhost:8080/",
          "height": 489
        },
        "outputId": "a3c28de5-dcb3-4dec-d6e3-75e6e7a7f109"
      },
      "execution_count": 20,
      "outputs": [
        {
          "output_type": "display_data",
          "data": {
            "text/plain": [
              "<Figure size 800x500 with 1 Axes>"
            ],
            "image/png": "[encoded data removed]"
          },
          "metadata": {}
        }
      ]
    },
    {
      "cell_type": "code",
      "source": [
        "# Model required for inference\n",
        "inference_model = keras.Model(\n",
        "    inputs=ocr_model.get_layer(name=\"image\").input,\n",
        "    outputs=ocr_model.get_layer(name='dense_1').output\n",
        ")"
      ],
      "metadata": {
        "id": "u0goSy1j8c-R"
      },
      "execution_count": 23,
      "outputs": []
    },
    {
      "cell_type": "code",
      "source": [
        "def decode_pred(pred_label):\n",
        "    input_len = np.ones(shape=pred_label.shape[0]) * pred_label.shape[1]\n",
        "    decode = keras.backend.ctc_decode(pred_label, input_length=input_len, greedy=True)[0][0][:,:MAX_LABEL_LENGTH]\n",
        "    chars = num_to_char(decode)\n",
        "    texts = [tf.strings.reduce_join(inputs=char).numpy().decode('UTF-8') for char in chars]\n",
        "    filtered_texts = [text.replace('[UNK]', \" \").strip() for text in texts]\n",
        "\n",
        "    return filtered_texts"
      ],
      "metadata": {
        "id": "sgatcciH8igz"
      },
      "execution_count": 24,
      "outputs": []
    },
    {
      "cell_type": "code",
      "source": [
        "show_images(data=test_ds, model=inference_model, decode_pred=decode_pred, cmap='binary')"
      ],
      "metadata": {
        "id": "N4lLCc3i8nQo",
        "colab": {
          "base_uri": "https://localhost:8080/",
          "height": 185
        },
        "outputId": "a8fb7558-2604-400c-fd08-fe5af5aa7e2b"
      },
      "execution_count": 26,
      "outputs": [
        {
          "output_type": "display_data",
          "data": {
            "text/plain": [
              "<Figure size 2500x800 with 2 Axes>"
            ],
            "image/png": "[encoded data removed]"
          },
          "metadata": {}
        }
      ]
    },
    {
      "cell_type": "code",
      "source": [
        "show_images(data=valid_ds, model=inference_model, decode_pred=decode_pred, cmap='binary')"
      ],
      "metadata": {
        "id": "a93Jhx1p83DU",
        "colab": {
          "base_uri": "https://localhost:8080/",
          "height": 185
        },
        "outputId": "03a66741-fcb1-46ce-9d5d-076fb49e3774"
      },
      "execution_count": 27,
      "outputs": [
        {
          "output_type": "display_data",
          "data": {
            "text/plain": [
              "<Figure size 2500x800 with 2 Axes>"
            ],
            "image/png": "[encoded data removed]"
          },
          "metadata": {}
        }
      ]
    }
  ]
}